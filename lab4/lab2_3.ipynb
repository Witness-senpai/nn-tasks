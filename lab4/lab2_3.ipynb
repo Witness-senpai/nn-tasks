{
 "cells": [
  {
   "cell_type": "markdown",
   "metadata": {},
   "source": [
    "# Лабораторные работы #2 и #3"
   ]
  },
  {
   "cell_type": "markdown",
   "metadata": {},
   "source": [
    "Предмет: **Интеллектуальные системы АиСИС**\n",
    "\n",
    "Студент: **Дарковский Илья**\n",
    "\n",
    "Группа: **ИВМО-01-20**"
   ]
  },
  {
   "cell_type": "markdown",
   "metadata": {},
   "source": [
    "## Импорты"
   ]
  },
  {
   "cell_type": "code",
   "execution_count": 1,
   "metadata": {},
   "outputs": [],
   "source": [
    "import numpy as np\n",
    "from emnist import extract_training_samples\n",
    "from tqdm.notebook import tqdm\n",
    "import matplotlib.pyplot as plt\n",
    "\n",
    "from classifier import NeuralNetwork as nn"
   ]
  },
  {
   "cell_type": "markdown",
   "metadata": {},
   "source": [
    "## Общие функции и константы"
   ]
  },
  {
   "cell_type": "code",
   "execution_count": 2,
   "metadata": {},
   "outputs": [],
   "source": [
    "np.set_printoptions(threshold=256)\n",
    "\n",
    "N_TRAIN_SAMPLES = 50000\n",
    "N_TEST_SAMPLES = 2500\n",
    "N_EPOCHS = 5\n",
    "RANDOM_SEED = 42\n",
    "\n",
    "INPUT_NODES = 784\n",
    "LR = 0.05\n",
    "\n",
    "MIN_VAL = 0.01\n",
    "MAX_VAL = 0.99"
   ]
  },
  {
   "cell_type": "code",
   "execution_count": 3,
   "metadata": {},
   "outputs": [],
   "source": [
    "def prepare_data(\n",
    "    X,\n",
    "    Y,\n",
    "    start_indx=0,\n",
    "    end_indx=0,\n",
    "):\n",
    "    \"\"\"\n",
    "    Склеивание данных и меток с урезанием до требуемого числа.\n",
    "    Склеиваем для того, чтобы потом можно было их перемешивать. \n",
    "    \"\"\"\n",
    "    concat_data = []\n",
    "    for x, y in zip(\n",
    "        X[start_indx:end_indx],\n",
    "        Y[start_indx:end_indx],\n",
    "    ):\n",
    "        data = x.reshape(INPUT_NODES)\n",
    "        data = (np.asfarray(data) / 255 * MAX_VAL) + MIN_VAL\n",
    "        data = np.append(data, y)\n",
    "        concat_data.append(data)\n",
    "    return concat_data\n",
    "\n",
    "\n",
    "def fit_classifier(\n",
    "    clf,\n",
    "    train_data,\n",
    "    n_outs,\n",
    "    n_epochs=N_EPOCHS,\n",
    "):\n",
    "    \"\"\"\n",
    "    Обучение классификатора на тренировочных данных \n",
    "    на протяжении заданного кол-ва эпох.\n",
    "    \"\"\"\n",
    "    for epoch in tqdm(range(n_epochs)):\n",
    "        np.random.shuffle(train_data)\n",
    "        for data in tqdm(train_data):\n",
    "            yi = int(data[-1])\n",
    "            Y = np.zeros(n_outs) + MIN_VAL\n",
    "            Y[yi] = MAX_VAL\n",
    "            X = data[:-1]\n",
    "            clf.fit(X, Y)\n",
    "        print(f'MSE: {clf.error()[0]}')\n",
    "\n",
    "\n",
    "def get_tpr(clf, test_data):\n",
    "    \"\"\"\n",
    "    Измерение качества у классификатора.\n",
    "    \"\"\"\n",
    "    tp = 0\n",
    "    fn = 0\n",
    "    for data in test_data:\n",
    "        pred = clf.predict(data[:-1])\n",
    "        max_indx = np.argmax(pred)\n",
    "        if (max_indx == data[-1]):\n",
    "            tp += 1\n",
    "        else:\n",
    "            fn += 1\n",
    "    return tp / (tp + fn)"
   ]
  },
  {
   "cell_type": "markdown",
   "metadata": {},
   "source": [
    "## Лабораторная работа №2"
   ]
  },
  {
   "cell_type": "markdown",
   "metadata": {},
   "source": [
    "Написать свою нейросеть прямого распространения и обучить её для распознования образов цифр."
   ]
  },
  {
   "cell_type": "markdown",
   "metadata": {},
   "source": [
    "### Предобработка данных"
   ]
  },
  {
   "cell_type": "code",
   "execution_count": 4,
   "metadata": {},
   "outputs": [
    {
     "name": "stdout",
     "output_type": "stream",
     "text": [
      "(240000, 28, 28)\n",
      "(240000,)\n"
     ]
    }
   ],
   "source": [
    "digits, labels = extract_training_samples('digits')\n",
    "\n",
    "print(digits.shape)\n",
    "print(labels.shape)"
   ]
  },
  {
   "cell_type": "code",
   "execution_count": 5,
   "metadata": {},
   "outputs": [],
   "source": [
    "train_data = prepare_data(\n",
    "    X=digits,\n",
    "    Y=labels,\n",
    "    end_indx=N_TRAIN_SAMPLES,\n",
    ")\n",
    "test_data = prepare_data(\n",
    "    X=digits,\n",
    "    Y=labels,\n",
    "    start_indx=N_TRAIN_SAMPLES,\n",
    "    end_indx=N_TRAIN_SAMPLES+N_TEST_SAMPLES,\n",
    ")"
   ]
  },
  {
   "cell_type": "code",
   "execution_count": 6,
   "metadata": {},
   "outputs": [
    {
     "data": {
      "text/plain": [
       "(50000, 2500)"
      ]
     },
     "execution_count": 6,
     "metadata": {},
     "output_type": "execute_result"
    }
   ],
   "source": [
    "len(train_data), len(test_data)"
   ]
  },
  {
   "cell_type": "code",
   "execution_count": 7,
   "metadata": {
    "scrolled": true
   },
   "outputs": [
    {
     "data": {
      "text/plain": [
       "array([0.01, 0.01, 0.01, ..., 0.01, 0.01, 8.  ])"
      ]
     },
     "execution_count": 7,
     "metadata": {},
     "output_type": "execute_result"
    }
   ],
   "source": [
    "train_data[0]"
   ]
  },
  {
   "cell_type": "code",
   "execution_count": 8,
   "metadata": {},
   "outputs": [
    {
     "data": {
      "text/plain": [
       "<matplotlib.image.AxesImage at 0x1d9a4d88a90>"
      ]
     },
     "execution_count": 8,
     "metadata": {},
     "output_type": "execute_result"
    },
    {
     "data": {
      "image/png": "[encoded data removed]",
      "text/plain": [
       "<Figure size 432x288 with 1 Axes>"
      ]
     },
     "metadata": {
      "needs_background": "light"
     },
     "output_type": "display_data"
    }
   ],
   "source": [
    "plt.imshow(train_data[0][:-1].reshape((28,28)), cmap='gray', vmin=0, vmax=1)"
   ]
  },
  {
   "cell_type": "code",
   "execution_count": 9,
   "metadata": {},
   "outputs": [
    {
     "data": {
      "text/plain": [
       "array([0.01, 0.01, 0.01, ..., 0.01, 0.01, 2.  ])"
      ]
     },
     "execution_count": 9,
     "metadata": {},
     "output_type": "execute_result"
    }
   ],
   "source": [
    "test_data[0]"
   ]
  },
  {
   "cell_type": "code",
   "execution_count": 10,
   "metadata": {},
   "outputs": [
    {
     "data": {
      "text/plain": [
       "<matplotlib.image.AxesImage at 0x1d9a4e27be0>"
      ]
     },
     "execution_count": 10,
     "metadata": {},
     "output_type": "execute_result"
    },
    {
     "data": {
      "image/png": "[encoded data removed]",
      "text/plain": [
       "<Figure size 432x288 with 1 Axes>"
      ]
     },
     "metadata": {
      "needs_background": "light"
     },
     "output_type": "display_data"
    }
   ],
   "source": [
    "plt.imshow(test_data[0][:-1].reshape((28,28)), cmap='gray', vmin=0, vmax=1)"
   ]
  },
  {
   "cell_type": "markdown",
   "metadata": {},
   "source": [
    "### Обучение"
   ]
  },
  {
   "cell_type": "code",
   "execution_count": 11,
   "metadata": {},
   "outputs": [],
   "source": [
    "OUT_NODES = 10\n",
    "\n",
    "digit_classifier = nn(\n",
    "    input_nodes=INPUT_NODES,\n",
    "    hidden_nodes=(100, 100),\n",
    "    out_nodes=OUT_NODES, \n",
    "    lr=LR,\n",
    ")"
   ]
  },
  {
   "cell_type": "code",
   "execution_count": 12,
   "metadata": {},
   "outputs": [
    {
     "data": {
      "application/vnd.jupyter.widget-view+json": {
       "model_id": "c9b6a8c4cffd42d9bfa583cd5ff0ffa2",
       "version_major": 2,
       "version_minor": 0
      },
      "text/plain": [
       "HBox(children=(FloatProgress(value=0.0, max=5.0), HTML(value='')))"
      ]
     },
     "metadata": {},
     "output_type": "display_data"
    },
    {
     "data": {
      "application/vnd.jupyter.widget-view+json": {
       "model_id": "187d507e3fe441c785320fd13fbb5f7a",
       "version_major": 2,
       "version_minor": 0
      },
      "text/plain": [
       "HBox(children=(FloatProgress(value=0.0, max=50000.0), HTML(value='')))"
      ]
     },
     "metadata": {},
     "output_type": "display_data"
    },
    {
     "name": "stdout",
     "output_type": "stream",
     "text": [
      "\n",
      "MSE: 0.0015228784558873457\n"
     ]
    },
    {
     "data": {
      "application/vnd.jupyter.widget-view+json": {
       "model_id": "990430afeb2444518f51518df9bc83b2",
       "version_major": 2,
       "version_minor": 0
      },
      "text/plain": [
       "HBox(children=(FloatProgress(value=0.0, max=50000.0), HTML(value='')))"
      ]
     },
     "metadata": {},
     "output_type": "display_data"
    },
    {
     "name": "stdout",
     "output_type": "stream",
     "text": [
      "\n",
      "MSE: 0.0009441550428269152\n"
     ]
    },
    {
     "data": {
      "application/vnd.jupyter.widget-view+json": {
       "model_id": "5ae35bbd8acf47a0ac8ac7143e7c499e",
       "version_major": 2,
       "version_minor": 0
      },
      "text/plain": [
       "HBox(children=(FloatProgress(value=0.0, max=50000.0), HTML(value='')))"
      ]
     },
     "metadata": {},
     "output_type": "display_data"
    },
    {
     "name": "stdout",
     "output_type": "stream",
     "text": [
      "\n",
      "MSE: 0.00036748242492552676\n"
     ]
    },
    {
     "data": {
      "application/vnd.jupyter.widget-view+json": {
       "model_id": "6b9ddad7f3be4fe28e893c6fdca0912d",
       "version_major": 2,
       "version_minor": 0
      },
      "text/plain": [
       "HBox(children=(FloatProgress(value=0.0, max=50000.0), HTML(value='')))"
      ]
     },
     "metadata": {},
     "output_type": "display_data"
    },
    {
     "name": "stdout",
     "output_type": "stream",
     "text": [
      "\n",
      "MSE: 0.003935301100635846\n"
     ]
    },
    {
     "data": {
      "application/vnd.jupyter.widget-view+json": {
       "model_id": "93e47617454d4abcb4b8b946d7a55afb",
       "version_major": 2,
       "version_minor": 0
      },
      "text/plain": [
       "HBox(children=(FloatProgress(value=0.0, max=50000.0), HTML(value='')))"
      ]
     },
     "metadata": {},
     "output_type": "display_data"
    },
    {
     "name": "stdout",
     "output_type": "stream",
     "text": [
      "\n",
      "MSE: 0.023593788610142073\n",
      "\n"
     ]
    }
   ],
   "source": [
    "fit_classifier(\n",
    "    clf=digit_classifier,\n",
    "    train_data=train_data,\n",
    "    n_outs=OUT_NODES,\n",
    "    n_epochs=5,\n",
    ")\n",
    "\n",
    "tpr = get_tpr(digit_classifier, test_data)"
   ]
  },
  {
   "cell_type": "code",
   "execution_count": 13,
   "metadata": {},
   "outputs": [
    {
     "name": "stdout",
     "output_type": "stream",
     "text": [
      "TPR = 0.9592\n"
     ]
    }
   ],
   "source": [
    "print(f'TPR = {tpr}')"
   ]
  },
  {
   "cell_type": "code",
   "execution_count": 14,
   "metadata": {},
   "outputs": [
    {
     "data": {
      "text/plain": [
       "array([[1.34540352e-02],\n",
       "       [4.07879067e-03],\n",
       "       [1.50757278e-02],\n",
       "       [2.50664896e-01],\n",
       "       [4.45423396e-03],\n",
       "       [9.69136563e-01],\n",
       "       [1.45685756e-03],\n",
       "       [7.11361924e-03],\n",
       "       [6.43267967e-04],\n",
       "       [1.76850889e-03]])"
      ]
     },
     "execution_count": 14,
     "metadata": {},
     "output_type": "execute_result"
    }
   ],
   "source": [
    "digit_classifier.predict(test_data[-1][:-1])"
   ]
  },
  {
   "cell_type": "code",
   "execution_count": 15,
   "metadata": {},
   "outputs": [
    {
     "data": {
      "text/plain": [
       "<matplotlib.image.AxesImage at 0x1d9a4ee3cd0>"
      ]
     },
     "execution_count": 15,
     "metadata": {},
     "output_type": "execute_result"
    },
    {
     "data": {
      "image/png": "[encoded data removed]",
      "text/plain": [
       "<Figure size 432x288 with 1 Axes>"
      ]
     },
     "metadata": {
      "needs_background": "light"
     },
     "output_type": "display_data"
    }
   ],
   "source": [
    "plt.imshow(test_data[-1][:-1].reshape((28,28)), cmap='gray', vmin=0, vmax=1)"
   ]
  },
  {
   "cell_type": "markdown",
   "metadata": {},
   "source": [
    "## Лабораторная работа №3"
   ]
  },
  {
   "cell_type": "markdown",
   "metadata": {},
   "source": [
    "Написать свою нейросеть прямого распространения и обучить её для распознования образов букв."
   ]
  },
  {
   "cell_type": "markdown",
   "metadata": {},
   "source": [
    "### Предобработка данных"
   ]
  },
  {
   "cell_type": "code",
   "execution_count": 16,
   "metadata": {},
   "outputs": [
    {
     "name": "stdout",
     "output_type": "stream",
     "text": [
      "(124800, 28, 28)\n",
      "(124800,)\n"
     ]
    }
   ],
   "source": [
    "letters, labels = extract_training_samples('letters')\n",
    "\n",
    "print(letters.shape)\n",
    "print(labels.shape)"
   ]
  },
  {
   "cell_type": "code",
   "execution_count": 17,
   "metadata": {},
   "outputs": [],
   "source": [
    "train_data = prepare_data(\n",
    "    X=letters,\n",
    "    Y=labels,\n",
    "    end_indx=N_TRAIN_SAMPLES,\n",
    ")\n",
    "test_data = prepare_data(\n",
    "    X=letters,\n",
    "    Y=labels,\n",
    "    start_indx=N_TRAIN_SAMPLES,\n",
    "    end_indx=N_TRAIN_SAMPLES+N_TEST_SAMPLES,\n",
    ")"
   ]
  },
  {
   "cell_type": "code",
   "execution_count": 18,
   "metadata": {},
   "outputs": [
    {
     "data": {
      "text/plain": [
       "(50000, 2500)"
      ]
     },
     "execution_count": 18,
     "metadata": {},
     "output_type": "execute_result"
    }
   ],
   "source": [
    "len(train_data), len(test_data)"
   ]
  },
  {
   "cell_type": "code",
   "execution_count": 19,
   "metadata": {},
   "outputs": [
    {
     "data": {
      "text/plain": [
       "(1, 26)"
      ]
     },
     "execution_count": 19,
     "metadata": {},
     "output_type": "execute_result"
    }
   ],
   "source": [
    "labels.min(), labels.max()"
   ]
  },
  {
   "cell_type": "code",
   "execution_count": 20,
   "metadata": {
    "scrolled": true
   },
   "outputs": [
    {
     "data": {
      "text/plain": [
       "array([1.0e-02, 1.0e-02, 1.0e-02, ..., 1.0e-02, 1.0e-02, 2.3e+01])"
      ]
     },
     "execution_count": 20,
     "metadata": {},
     "output_type": "execute_result"
    }
   ],
   "source": [
    "train_data[0]"
   ]
  },
  {
   "cell_type": "code",
   "execution_count": 21,
   "metadata": {},
   "outputs": [
    {
     "data": {
      "text/plain": [
       "<matplotlib.image.AxesImage at 0x1d999b510a0>"
      ]
     },
     "execution_count": 21,
     "metadata": {},
     "output_type": "execute_result"
    },
    {
     "data": {
      "image/png": "[encoded data removed]",
      "text/plain": [
       "<Figure size 432x288 with 1 Axes>"
      ]
     },
     "metadata": {
      "needs_background": "light"
     },
     "output_type": "display_data"
    }
   ],
   "source": [
    "plt.imshow(train_data[0][:-1].reshape((28,28)), cmap='gray', vmin=0, vmax=1)"
   ]
  },
  {
   "cell_type": "code",
   "execution_count": 22,
   "metadata": {},
   "outputs": [
    {
     "data": {
      "text/plain": [
       "23.0"
      ]
     },
     "execution_count": 22,
     "metadata": {},
     "output_type": "execute_result"
    }
   ],
   "source": [
    "train_data[0][-1]"
   ]
  },
  {
   "cell_type": "code",
   "execution_count": 23,
   "metadata": {},
   "outputs": [
    {
     "data": {
      "text/plain": [
       "'W'"
      ]
     },
     "execution_count": 23,
     "metadata": {},
     "output_type": "execute_result"
    }
   ],
   "source": [
    "chr(int(train_data[0][-1]) + 64)"
   ]
  },
  {
   "cell_type": "markdown",
   "metadata": {},
   "source": [
    "### Обучение"
   ]
  },
  {
   "cell_type": "code",
   "execution_count": 38,
   "metadata": {},
   "outputs": [],
   "source": [
    "HIDDEN_NODES = (260, 130)\n",
    "OUT_NODES = 27\n",
    "\n",
    "letter_classifier = nn(\n",
    "    input_nodes=INPUT_NODES,\n",
    "    hidden_nodes=HIDDEN_NODES,\n",
    "    out_nodes=OUT_NODES,\n",
    "    lr=LR,\n",
    ")"
   ]
  },
  {
   "cell_type": "code",
   "execution_count": 39,
   "metadata": {
    "scrolled": false
   },
   "outputs": [
    {
     "data": {
      "application/vnd.jupyter.widget-view+json": {
       "model_id": "5cc204190f6a48e3a9a20e755149548f",
       "version_major": 2,
       "version_minor": 0
      },
      "text/plain": [
       "HBox(children=(FloatProgress(value=0.0, max=5.0), HTML(value='')))"
      ]
     },
     "metadata": {},
     "output_type": "display_data"
    },
    {
     "data": {
      "application/vnd.jupyter.widget-view+json": {
       "model_id": "02b3c4c757a1443a84c03ca799cbe573",
       "version_major": 2,
       "version_minor": 0
      },
      "text/plain": [
       "HBox(children=(FloatProgress(value=0.0, max=50000.0), HTML(value='')))"
      ]
     },
     "metadata": {},
     "output_type": "display_data"
    },
    {
     "name": "stdout",
     "output_type": "stream",
     "text": [
      "\n",
      "MSE: 0.02643496013882897\n"
     ]
    },
    {
     "data": {
      "application/vnd.jupyter.widget-view+json": {
       "model_id": "75e992b33bec49179d7c2a750a196965",
       "version_major": 2,
       "version_minor": 0
      },
      "text/plain": [
       "HBox(children=(FloatProgress(value=0.0, max=50000.0), HTML(value='')))"
      ]
     },
     "metadata": {},
     "output_type": "display_data"
    },
    {
     "name": "stdout",
     "output_type": "stream",
     "text": [
      "\n",
      "MSE: 0.008264029617126092\n"
     ]
    },
    {
     "data": {
      "application/vnd.jupyter.widget-view+json": {
       "model_id": "5effb43372bc438698b2962444f34c3f",
       "version_major": 2,
       "version_minor": 0
      },
      "text/plain": [
       "HBox(children=(FloatProgress(value=0.0, max=50000.0), HTML(value='')))"
      ]
     },
     "metadata": {},
     "output_type": "display_data"
    },
    {
     "name": "stdout",
     "output_type": "stream",
     "text": [
      "\n",
      "MSE: 0.031292669453105305\n"
     ]
    },
    {
     "data": {
      "application/vnd.jupyter.widget-view+json": {
       "model_id": "664dd63c2cda47398face2e37f11e229",
       "version_major": 2,
       "version_minor": 0
      },
      "text/plain": [
       "HBox(children=(FloatProgress(value=0.0, max=50000.0), HTML(value='')))"
      ]
     },
     "metadata": {},
     "output_type": "display_data"
    },
    {
     "name": "stdout",
     "output_type": "stream",
     "text": [
      "\n",
      "MSE: 0.0027616501022910502\n"
     ]
    },
    {
     "data": {
      "application/vnd.jupyter.widget-view+json": {
       "model_id": "7c2189a4a7a7475593ed92772227a58a",
       "version_major": 2,
       "version_minor": 0
      },
      "text/plain": [
       "HBox(children=(FloatProgress(value=0.0, max=50000.0), HTML(value='')))"
      ]
     },
     "metadata": {},
     "output_type": "display_data"
    },
    {
     "name": "stdout",
     "output_type": "stream",
     "text": [
      "\n",
      "MSE: 1.086444284897554\n",
      "\n"
     ]
    }
   ],
   "source": [
    "fit_classifier(\n",
    "    clf=letter_classifier,\n",
    "    train_data=train_data,\n",
    "    n_outs=OUT_NODES,\n",
    "    n_epochs=5,\n",
    ")"
   ]
  },
  {
   "cell_type": "code",
   "execution_count": 40,
   "metadata": {},
   "outputs": [
    {
     "name": "stdout",
     "output_type": "stream",
     "text": [
      "TPR = 0.8104\n"
     ]
    }
   ],
   "source": [
    "print(f'TPR = {get_tpr(letter_classifier, test_data)}')"
   ]
  },
  {
   "cell_type": "code",
   "execution_count": 41,
   "metadata": {},
   "outputs": [
    {
     "data": {
      "text/plain": [
       "array([[4.38481061e-03],\n",
       "       [1.66824021e-02],\n",
       "       [6.40167636e-03],\n",
       "       [1.81271236e-02],\n",
       "       [6.72174143e-03],\n",
       "       [9.72685035e-01],\n",
       "       [2.43418799e-02],\n",
       "       [1.21805960e-02],\n",
       "       [6.33173754e-03],\n",
       "       [1.91942184e-02],\n",
       "       [5.88817729e-04],\n",
       "       [3.34964884e-03],\n",
       "       [4.40130001e-03],\n",
       "       [3.49202569e-03],\n",
       "       [6.34744697e-03],\n",
       "       [1.52345319e-02],\n",
       "       [5.63762485e-03],\n",
       "       [2.97792218e-02],\n",
       "       [7.22500580e-03],\n",
       "       [2.51998054e-02],\n",
       "       [3.59032860e-03],\n",
       "       [9.49868520e-03],\n",
       "       [2.28820069e-02],\n",
       "       [3.21804617e-02],\n",
       "       [4.13304641e-03],\n",
       "       [3.19222174e-03],\n",
       "       [2.75551135e-02]])"
      ]
     },
     "execution_count": 41,
     "metadata": {},
     "output_type": "execute_result"
    }
   ],
   "source": [
    "letter_classifier.predict(test_data[0][:-1])"
   ]
  },
  {
   "cell_type": "code",
   "execution_count": 42,
   "metadata": {},
   "outputs": [
    {
     "data": {
      "text/plain": [
       "<matplotlib.image.AxesImage at 0x1d9a0aa9a60>"
      ]
     },
     "execution_count": 42,
     "metadata": {},
     "output_type": "execute_result"
    },
    {
     "data": {
      "image/png": "[encoded data removed]",
      "text/plain": [
       "<Figure size 432x288 with 1 Axes>"
      ]
     },
     "metadata": {
      "needs_background": "light"
     },
     "output_type": "display_data"
    }
   ],
   "source": [
    "plt.imshow(test_data[0][:-1].reshape((28,28)), cmap='gray', vmin=0, vmax=1)"
   ]
  },
  {
   "cell_type": "code",
   "execution_count": 43,
   "metadata": {},
   "outputs": [
    {
     "data": {
      "text/plain": [
       "'E'"
      ]
     },
     "execution_count": 43,
     "metadata": {},
     "output_type": "execute_result"
    }
   ],
   "source": [
    "chr(int(test_data[0][-1]) + 64)"
   ]
  },
  {
   "cell_type": "code",
   "execution_count": null,
   "metadata": {},
   "outputs": [],
   "source": []
  }
 ],
 "metadata": {
  "kernelspec": {
   "display_name": "Python 3",
   "language": "python",
   "name": "python3"
  },
  "language_info": {
   "codemirror_mode": {
    "name": "ipython",
    "version": 3
   },
   "file_extension": ".py",
   "mimetype": "text/x-python",
   "name": "python",
   "nbconvert_exporter": "python",
   "pygments_lexer": "ipython3",
   "version": "3.8.2"
  }
 },
 "nbformat": 4,
 "nbformat_minor": 4
}
