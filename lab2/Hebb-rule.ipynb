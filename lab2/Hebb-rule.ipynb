{
 "cells": [
  {
   "cell_type": "markdown",
   "metadata": {},
   "source": [
    "## Лабораторная работа #2"
   ]
  },
  {
   "cell_type": "markdown",
   "metadata": {},
   "source": [
    "Реализовать однослойную нейронную сеть, работающую по `правилу Хебба`.\n",
    "\n",
    "Обучить её для классификации образов цифр."
   ]
  },
  {
   "cell_type": "code",
   "execution_count": 1,
   "metadata": {},
   "outputs": [],
   "source": [
    "from emnist import extract_training_samples\n",
    "import matplotlib.pyplot as plt\n",
    "from tqdm.notebook import tqdm\n",
    "import numpy as np"
   ]
  },
  {
   "cell_type": "code",
   "execution_count": 17,
   "metadata": {},
   "outputs": [],
   "source": [
    "class NeuralNetwork:\n",
    "    def __init__(self,\n",
    "        input_nodes: int,\n",
    "        out_nodes: int,\n",
    "        lr: int,\n",
    "    ):\n",
    "        self.input_nodes = input_nodes\n",
    "        self.outs = np.zeros(out_nodes)\n",
    "        self.lr = lr\n",
    "        self.diff = 0\n",
    "        \n",
    "        # Начальная инициализация весов\n",
    "        self.weights = np.random.normal(\n",
    "            0.0,\n",
    "            0.1,\n",
    "            (len(self.outs), self.input_nodes) # +1 нейрон смещения\n",
    "        )\n",
    "\n",
    "    def fit(self,\n",
    "        X,\n",
    "        Y,\n",
    "    ):\n",
    "        # Пробуем предсказать\n",
    "        test_out = self.predict(X)\n",
    "\n",
    "        # Преобразование данных к нужному виду\n",
    "        X = np.array(X, ndmin=2).T\n",
    "        Y = np.array(Y, ndmin=2).T\n",
    "        \n",
    "        _out = np.array(test_out, dtype=int),\n",
    "        _y = np.array(Y.T[0], dtype=int),\n",
    "        print(_out, _y)   \n",
    "        # Обновление весов\n",
    "        for j, y in enumerate(self.outs):\n",
    "            if y != _y[0][j]:\n",
    "                for i, x in enumerate(X):\n",
    "                    if x != y:\n",
    "                        self.weights[j][i] = self.weights[j][i] \\\n",
    "                            + self.lr * x * _y[0][j]\n",
    "            else:\n",
    "                self.diff += 1\n",
    "\n",
    "    def predict(self, X):\n",
    "        X = np.array(X, ndmin=2).T\n",
    "        self.outs = []\n",
    "\n",
    "        self.outs = np.array(list(map(self.act_func, np.dot(self.weights, X))))\n",
    "\n",
    "        return self.outs\n",
    "\n",
    "    def predict_proba(self, X):\n",
    "        X = np.array(X, ndmin=2).T\n",
    "        self.outs = []\n",
    "\n",
    "        self.outs = np.array(np.dot(self.weights, X))\n",
    "        return self.outs\n",
    "    \n",
    "    \n",
    "    def act_func(self, x):\n",
    "        return 1 if x >= 0 else -1"
   ]
  },
  {
   "cell_type": "code",
   "execution_count": 18,
   "metadata": {},
   "outputs": [],
   "source": [
    "digits = np.array([\n",
    "    [0, 1, 0, 1, 1, 0, 0, 1, 0, 0, 1, 0, 1, 1, 1, 1],\n",
    "    [1, 1, 1, 0, 0, 1, 1, 1, 1, 1, 0, 0, 1, 1, 1, 2],\n",
    "    [1, 1, 1, 0, 0, 1, 1, 1, 1, 0, 0, 1, 1, 1, 1, 3],\n",
    "])\n",
    "digits[digits == 0] = -1"
   ]
  },
  {
   "cell_type": "code",
   "execution_count": 19,
   "metadata": {},
   "outputs": [
    {
     "data": {
      "text/plain": [
       "array([[-1,  1, -1,  1,  1, -1, -1,  1, -1, -1,  1, -1,  1,  1,  1,  1],\n",
       "       [ 1,  1,  1, -1, -1,  1,  1,  1,  1,  1, -1, -1,  1,  1,  1,  2],\n",
       "       [ 1,  1,  1, -1, -1,  1,  1,  1,  1, -1, -1,  1,  1,  1,  1,  3]])"
      ]
     },
     "execution_count": 19,
     "metadata": {},
     "output_type": "execute_result"
    }
   ],
   "source": [
    "digits"
   ]
  },
  {
   "cell_type": "code",
   "execution_count": 20,
   "metadata": {},
   "outputs": [],
   "source": [
    "def show_images(images):\n",
    "    n = len(images)\n",
    "    f = plt.figure(figsize=(10, 8))\n",
    "    for i in range(n):\n",
    "        f.add_subplot(1, n, i + 1)\n",
    "        plt.imshow(images[i][:-1].reshape((5, 3)))\n",
    "\n",
    "    plt.show(block=True)"
   ]
  },
  {
   "cell_type": "code",
   "execution_count": 21,
   "metadata": {},
   "outputs": [
    {
     "data": {
      "image/png": "[encoded data removed]",
      "text/plain": [
       "<Figure size 720x576 with 3 Axes>"
      ]
     },
     "metadata": {
      "needs_background": "light"
     },
     "output_type": "display_data"
    }
   ],
   "source": [
    "show_images(digits)"
   ]
  },
  {
   "cell_type": "code",
   "execution_count": 22,
   "metadata": {},
   "outputs": [],
   "source": [
    "OUT_NODES = len(digits)\n",
    "\n",
    "nn = NeuralNetwork(\n",
    "    input_nodes=15,\n",
    "    out_nodes=OUT_NODES,\n",
    "    lr=1,\n",
    ")"
   ]
  },
  {
   "cell_type": "code",
   "execution_count": 23,
   "metadata": {},
   "outputs": [
    {
     "name": "stdout",
     "output_type": "stream",
     "text": [
      "[-1  1  1] 1\n",
      "[-1  1 -1] 2\n",
      "[-1 -1 -1] 3\n"
     ]
    }
   ],
   "source": [
    "print(nn.predict(digits[0][:-1]), digits[0][-1])\n",
    "print(nn.predict(digits[1][:-1]), digits[1][-1])\n",
    "print(nn.predict(digits[2][:-1]), digits[2][-1])"
   ]
  },
  {
   "cell_type": "code",
   "execution_count": 24,
   "metadata": {
    "scrolled": true
   },
   "outputs": [
    {
     "data": {
      "application/vnd.jupyter.widget-view+json": {
       "model_id": "e2ec044ce30d4c36a74607b30d27f912",
       "version_major": 2,
       "version_minor": 0
      },
      "text/plain": [
       "HBox(children=(FloatProgress(value=0.0, max=10.0), HTML(value='')))"
      ]
     },
     "metadata": {},
     "output_type": "display_data"
    },
    {
     "name": "stdout",
     "output_type": "stream",
     "text": [
      "(array([-1, -1, -1]),) (array([-1, -1,  1]),)\n",
      "(array([-1,  1, -1]),) (array([ 1, -1, -1]),)\n",
      "(array([1, 1, 1]),) (array([-1,  1, -1]),)\n",
      "(array([ 1, -1,  1]),) (array([ 1, -1, -1]),)\n",
      "(array([-1,  1,  1]),) (array([-1,  1, -1]),)\n",
      "(array([-1,  1,  1]),) (array([-1, -1,  1]),)\n",
      "(array([-1,  1,  1]),) (array([-1, -1,  1]),)\n",
      "(array([-1,  1,  1]),) (array([-1,  1, -1]),)\n",
      "(array([ 1, -1, -1]),) (array([ 1, -1, -1]),)\n",
      "(array([-1,  1,  1]),) (array([-1,  1, -1]),)\n",
      "(array([-1, -1,  1]),) (array([-1, -1,  1]),)\n",
      "(array([ 1, -1,  1]),) (array([ 1, -1, -1]),)\n",
      "(array([ 1, -1, -1]),) (array([ 1, -1, -1]),)\n",
      "(array([-1,  1,  1]),) (array([-1,  1, -1]),)\n",
      "(array([-1, -1,  1]),) (array([-1, -1,  1]),)\n",
      "(array([ 1, -1, -1]),) (array([ 1, -1, -1]),)\n",
      "(array([-1,  1, -1]),) (array([-1,  1, -1]),)\n",
      "(array([-1, -1,  1]),) (array([-1, -1,  1]),)\n",
      "(array([-1, -1,  1]),) (array([-1, -1,  1]),)\n",
      "(array([-1,  1, -1]),) (array([-1,  1, -1]),)\n",
      "(array([ 1, -1, -1]),) (array([ 1, -1, -1]),)\n",
      "(array([-1, -1,  1]),) (array([-1, -1,  1]),)\n",
      "(array([-1,  1, -1]),) (array([-1,  1, -1]),)\n",
      "(array([ 1, -1, -1]),) (array([ 1, -1, -1]),)\n",
      "(array([-1,  1, -1]),) (array([-1,  1, -1]),)\n",
      "(array([-1, -1,  1]),) (array([-1, -1,  1]),)\n",
      "(array([ 1, -1, -1]),) (array([ 1, -1, -1]),)\n",
      "(array([ 1, -1, -1]),) (array([ 1, -1, -1]),)\n",
      "(array([-1,  1, -1]),) (array([-1,  1, -1]),)\n",
      "(array([-1, -1,  1]),) (array([-1, -1,  1]),)\n",
      "\n"
     ]
    }
   ],
   "source": [
    "train_data = digits.copy()\n",
    "\n",
    "for epoch in tqdm(range(10)):\n",
    "    np.random.shuffle(train_data)\n",
    "    for digit in train_data:\n",
    "        yi = digit[-1] - 1\n",
    "        Y = np.zeros(OUT_NODES) - 1\n",
    "        Y[yi] = 1\n",
    "        X = digit[:-1].reshape(15)\n",
    "        nn.fit(X, Y)"
   ]
  },
  {
   "cell_type": "code",
   "execution_count": 25,
   "metadata": {},
   "outputs": [
    {
     "name": "stdout",
     "output_type": "stream",
     "text": [
      "[ 1 -1 -1] 1\n",
      "[-1  1 -1] 2\n",
      "[-1 -1  1] 3\n"
     ]
    }
   ],
   "source": [
    "print(nn.predict(digits[0][:-1]), digits[0][-1])\n",
    "print(nn.predict(digits[1][:-1]), digits[1][-1])\n",
    "print(nn.predict(digits[2][:-1]), digits[2][-1])"
   ]
  },
  {
   "cell_type": "code",
   "execution_count": null,
   "metadata": {},
   "outputs": [],
   "source": []
  }
 ],
 "metadata": {
  "kernelspec": {
   "display_name": "Python 3",
   "language": "python",
   "name": "python3"
  },
  "language_info": {
   "codemirror_mode": {
    "name": "ipython",
    "version": 3
   },
   "file_extension": ".py",
   "mimetype": "text/x-python",
   "name": "python",
   "nbconvert_exporter": "python",
   "pygments_lexer": "ipython3",
   "version": "3.8.2"
  }
 },
 "nbformat": 4,
 "nbformat_minor": 4
}
