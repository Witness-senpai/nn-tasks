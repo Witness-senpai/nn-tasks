{
 "cells": [
  {
   "cell_type": "markdown",
   "metadata": {},
   "source": [
    "## Лабораторная работа #3"
   ]
  },
  {
   "cell_type": "markdown",
   "metadata": {},
   "source": [
    "Реализовать однослойную нейронную сеть, работающую по `Дельта-правилу`.\n",
    "\n",
    "Обучить её для классификации образов букв."
   ]
  },
  {
   "cell_type": "code",
   "execution_count": 1,
   "metadata": {},
   "outputs": [],
   "source": [
    "import matplotlib.pyplot as plt\n",
    "import scipy.special\n",
    "from tqdm.notebook import tqdm\n",
    "import numpy as np"
   ]
  },
  {
   "cell_type": "code",
   "execution_count": 2,
   "metadata": {},
   "outputs": [],
   "source": [
    "class NeuralNetwork:\n",
    "    def __init__(self,\n",
    "        input_nodes: int,\n",
    "        out_nodes: int,\n",
    "        lr: int,\n",
    "    ):\n",
    "        self.input_nodes = input_nodes\n",
    "        self.outs = np.zeros(out_nodes)\n",
    "        self.lr = lr\n",
    "        self.errors = np.zeros(len(self.outs))\n",
    "        \n",
    "        # Начальная инициализация весов\n",
    "        self.weights = np.random.normal(\n",
    "            0.0,\n",
    "            0.1,\n",
    "            (len(self.outs), self.input_nodes)\n",
    "        )\n",
    "\n",
    "    def fit(self,\n",
    "        X,\n",
    "        Y,\n",
    "    ):\n",
    "        # Пробуем предсказать\n",
    "        test_out = self.predict_proba(X)\n",
    "\n",
    "        # Преобразование данных к нужному виду\n",
    "        X = np.array(X, ndmin=2).T\n",
    "        Y = np.array(Y, ndmin=2).T\n",
    "        \n",
    "        _out = np.array(test_out.T[0], dtype=float)\n",
    "        _y = np.array(Y.T[0], dtype=int)\n",
    "        \n",
    "        # Ошибка выходного слоя по дельта-правилу\n",
    "        self.errors = _y - _out\n",
    "         \n",
    "        # Обновление весов по дельта-правилу\n",
    "        for j, y in enumerate(self.outs):\n",
    "            for i, x in enumerate(X):\n",
    "                self.weights[j][i] = self.weights[j][i] \\\n",
    "                    + self.lr * self.errors[j] * x\n",
    "\n",
    "    def predict_proba(self, X):\n",
    "        X = np.array(X, ndmin=2).T\n",
    "        self.outs = self.act_func(np.dot(self.weights, X))\n",
    "        return self.outs\n",
    "    \n",
    "    def act_func(self, x):\n",
    "        # Сигмоидальная функция активации\n",
    "        return scipy.special.expit(x)\n",
    "    \n",
    "    def squared_error(self):\n",
    "        # Квадратичная ошибка\n",
    "        return sum(self.errors**2)"
   ]
  },
  {
   "cell_type": "code",
   "execution_count": 3,
   "metadata": {},
   "outputs": [],
   "source": [
    "digits = np.array([\n",
    "    [0, 1, 0, 1, 0, 1, 1, 0, 1, 1, 1, 1, 1, 0, 1, 0],\n",
    "    [1, 1, 1, 1, 0, 1, 1, 1, 0, 1, 0, 1, 1, 1, 1, 1],\n",
    "    [1, 1, 1, 1, 0, 0, 1, 0, 0, 1, 0, 0, 1, 1, 1, 2],\n",
    "    [1, 1, 0, 1, 0, 1, 1, 0, 1, 1, 0, 1, 1, 1, 0, 3],\n",
    "    [1, 1, 1, 1, 0, 0, 1, 1, 1, 1, 0, 0, 1, 1, 1, 4],\n",
    "    [1, 1, 1, 1, 0, 0, 1, 1, 1, 1, 0, 0, 1, 0, 0, 5],\n",
    "])"
   ]
  },
  {
   "cell_type": "code",
   "execution_count": 4,
   "metadata": {},
   "outputs": [
    {
     "data": {
      "text/plain": [
       "array([[0, 1, 0, 1, 0, 1, 1, 0, 1, 1, 1, 1, 1, 0, 1, 0],\n",
       "       [1, 1, 1, 1, 0, 1, 1, 1, 0, 1, 0, 1, 1, 1, 1, 1],\n",
       "       [1, 1, 1, 1, 0, 0, 1, 0, 0, 1, 0, 0, 1, 1, 1, 2],\n",
       "       [1, 1, 0, 1, 0, 1, 1, 0, 1, 1, 0, 1, 1, 1, 0, 3],\n",
       "       [1, 1, 1, 1, 0, 0, 1, 1, 1, 1, 0, 0, 1, 1, 1, 4],\n",
       "       [1, 1, 1, 1, 0, 0, 1, 1, 1, 1, 0, 0, 1, 0, 0, 5]])"
      ]
     },
     "execution_count": 4,
     "metadata": {},
     "output_type": "execute_result"
    }
   ],
   "source": [
    "digits"
   ]
  },
  {
   "cell_type": "code",
   "execution_count": 5,
   "metadata": {},
   "outputs": [],
   "source": [
    "def show_images(images):\n",
    "    n = len(images)\n",
    "    f = plt.figure(figsize=(10, 8))\n",
    "    for i in range(n):\n",
    "        f.add_subplot(1, n, i + 1)\n",
    "        plt.imshow(images[i][:-1].reshape((5, 3)))\n",
    "\n",
    "    plt.show(block=True)"
   ]
  },
  {
   "cell_type": "code",
   "execution_count": 6,
   "metadata": {},
   "outputs": [
    {
     "data": {
      "image/png": "[encoded data removed]",
      "text/plain": [
       "<Figure size 720x576 with 6 Axes>"
      ]
     },
     "metadata": {
      "needs_background": "light"
     },
     "output_type": "display_data"
    }
   ],
   "source": [
    "show_images(digits)"
   ]
  },
  {
   "cell_type": "code",
   "execution_count": 7,
   "metadata": {},
   "outputs": [],
   "source": [
    "OUT_NODES = len(digits)\n",
    "\n",
    "nn = NeuralNetwork(\n",
    "    input_nodes=15,\n",
    "    out_nodes=OUT_NODES,\n",
    "    lr=0.25,\n",
    ")"
   ]
  },
  {
   "cell_type": "code",
   "execution_count": 8,
   "metadata": {},
   "outputs": [
    {
     "name": "stdout",
     "output_type": "stream",
     "text": [
      "[[0.4177111 ]\n",
      " [0.48168312]\n",
      " [0.38288471]\n",
      " [0.50253067]\n",
      " [0.57690252]\n",
      " [0.50403652]] 0\n",
      "[[0.45383789]\n",
      " [0.48387962]\n",
      " [0.38727147]\n",
      " [0.54398157]\n",
      " [0.51606617]\n",
      " [0.42690368]] 1\n",
      "[[0.44500108]\n",
      " [0.47752709]\n",
      " [0.45494579]\n",
      " [0.58216484]\n",
      " [0.5217222 ]\n",
      " [0.40245654]] 2\n"
     ]
    }
   ],
   "source": [
    "print(nn.predict_proba(digits[0][:-1]), digits[0][-1])\n",
    "print(nn.predict_proba(digits[1][:-1]), digits[1][-1])\n",
    "print(nn.predict_proba(digits[2][:-1]), digits[2][-1])"
   ]
  },
  {
   "cell_type": "code",
   "execution_count": 9,
   "metadata": {
    "scrolled": true
   },
   "outputs": [
    {
     "data": {
      "application/vnd.jupyter.widget-view+json": {
       "model_id": "105481765a2c4575b3005fe4572ba7fc",
       "version_major": 2,
       "version_minor": 0
      },
      "text/plain": [
       "HBox(children=(FloatProgress(value=0.0, max=10.0), HTML(value='')))"
      ]
     },
     "metadata": {},
     "output_type": "display_data"
    },
    {
     "name": "stdout",
     "output_type": "stream",
     "text": [
      "epoch[0], mse = 1.3011001685607833\n",
      "epoch[1], mse = 0.982583563500513\n",
      "epoch[2], mse = 0.8216437170175269\n",
      "epoch[3], mse = 0.6620485368897449\n",
      "epoch[4], mse = 0.5635546431108388\n",
      "epoch[5], mse = 0.49324450463445796\n",
      "epoch[6], mse = 0.44183672306299476\n",
      "epoch[7], mse = 0.3198740560690492\n",
      "epoch[8], mse = 0.31474611879381903\n",
      "epoch[9], mse = 0.2630696765405496\n",
      "\n"
     ]
    }
   ],
   "source": [
    "for epoch in tqdm(range(10)):\n",
    "    np.random.shuffle(digits)\n",
    "    mse = 0\n",
    "    for digit in digits:\n",
    "        yi = digit[-1]\n",
    "        Y = np.zeros(OUT_NODES)\n",
    "        Y[yi] = 1\n",
    "        X = digit[:-1].reshape(15)\n",
    "        nn.fit(X, Y)\n",
    "        mse += nn.squared_error()\n",
    "    print(f'epoch[{epoch}], mse = {mse / len(digits)}')"
   ]
  },
  {
   "cell_type": "code",
   "execution_count": 10,
   "metadata": {},
   "outputs": [
    {
     "name": "stdout",
     "output_type": "stream",
     "text": [
      "[[0.82403455]\n",
      " [0.06484763]\n",
      " [0.03990753]\n",
      " [0.13796073]\n",
      " [0.01642783]\n",
      " [0.04415282]] expected: 0 out: 0\n",
      "[[0.01780442]\n",
      " [0.06469333]\n",
      " [0.19963646]\n",
      " [0.03088925]\n",
      " [0.31621629]\n",
      " [0.19495046]] expected: 4,  out: 4\n",
      "[[0.02874255]\n",
      " [0.658972  ]\n",
      " [0.12054423]\n",
      " [0.0591951 ]\n",
      " [0.03794269]\n",
      " [0.03716806]] expected: 1, out: 1\n",
      "[[0.02808653]\n",
      " [0.03806322]\n",
      " [0.08097903]\n",
      " [0.06371657]\n",
      " [0.14383822]\n",
      " [0.77685003]] expected: 5, out: 5\n"
     ]
    }
   ],
   "source": [
    "print(nn.predict_proba(digits[0][:-1]),\n",
    "      f'expected: {digits[0][-1]}',\n",
    "      f'out: {np.argmax(nn.predict_proba(digits[0][:-1]))}')\n",
    "print(nn.predict_proba(digits[1][:-1]),\n",
    "      f'expected: {digits[1][-1]}, ',\n",
    "      f'out: {np.argmax(nn.predict_proba(digits[1][:-1]))}')\n",
    "print(nn.predict_proba(digits[2][:-1]),\n",
    "      f'expected: {digits[2][-1]},',\n",
    "      f'out: {np.argmax(nn.predict_proba(digits[2][:-1]))}')\n",
    "print(nn.predict_proba(digits[4][:-1]),\n",
    "      f'expected: {digits[4][-1]},',\n",
    "      f'out: {np.argmax(nn.predict_proba(digits[4][:-1]))}')"
   ]
  },
  {
   "cell_type": "code",
   "execution_count": null,
   "metadata": {},
   "outputs": [],
   "source": []
  }
 ],
 "metadata": {
  "kernelspec": {
   "display_name": "Python 3",
   "language": "python",
   "name": "python3"
  },
  "language_info": {
   "codemirror_mode": {
    "name": "ipython",
    "version": 3
   },
   "file_extension": ".py",
   "mimetype": "text/x-python",
   "name": "python",
   "nbconvert_exporter": "python",
   "pygments_lexer": "ipython3",
   "version": "3.8.2"
  }
 },
 "nbformat": 4,
 "nbformat_minor": 4
}
