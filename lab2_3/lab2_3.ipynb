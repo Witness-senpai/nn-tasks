{
 "cells": [
  {
   "cell_type": "markdown",
   "metadata": {},
   "source": [
    "# Лабораторные работы #2 и #3"
   ]
  },
  {
   "cell_type": "markdown",
   "metadata": {},
   "source": [
    "Предмет: **Интеллектуальные системы АиСИС**\n",
    "\n",
    "Студент: **Дарковский Илья**\n",
    "\n",
    "Группа: **ИВМО-01-20**"
   ]
  },
  {
   "cell_type": "markdown",
   "metadata": {},
   "source": [
    "## Импорты"
   ]
  },
  {
   "cell_type": "code",
   "execution_count": 53,
   "metadata": {},
   "outputs": [],
   "source": [
    "import pickle\n",
    "\n",
    "import numpy as np\n",
    "from emnist import extract_training_samples\n",
    "from tqdm.notebook import tqdm\n",
    "import matplotlib.pyplot as plt\n",
    "\n",
    "from classifier import NeuralNetwork as nn"
   ]
  },
  {
   "cell_type": "markdown",
   "metadata": {},
   "source": [
    "## Общие функции и константы"
   ]
  },
  {
   "cell_type": "code",
   "execution_count": 2,
   "metadata": {},
   "outputs": [],
   "source": [
    "np.set_printoptions(threshold=256)\n",
    "\n",
    "N_TRAIN_SAMPLES = 50000\n",
    "N_TEST_SAMPLES = 2500\n",
    "N_EPOCHS = 5\n",
    "RANDOM_SEED = 42\n",
    "\n",
    "INPUT_NODES = 784\n",
    "LR = 0.05\n",
    "\n",
    "MIN_VAL = 0.00\n",
    "MAX_VAL = 1"
   ]
  },
  {
   "cell_type": "code",
   "execution_count": 50,
   "metadata": {},
   "outputs": [],
   "source": [
    "def prepare_data(\n",
    "    X,\n",
    "    Y,\n",
    "    start_indx=0,\n",
    "    end_indx=0,\n",
    "):\n",
    "    \"\"\"\n",
    "    Склеивание данных и меток с урезанием до требуемого числа.\n",
    "    Склеиваем для того, чтобы потом можно было их перемешивать. \n",
    "    \"\"\"\n",
    "    concat_data = []\n",
    "    for x, y in zip(\n",
    "        X[start_indx:end_indx],\n",
    "        Y[start_indx:end_indx],\n",
    "    ):\n",
    "        data = x.reshape(INPUT_NODES)\n",
    "        data = (np.asfarray(data) / 255 * MAX_VAL) + MIN_VAL\n",
    "        data = np.append(data, y)\n",
    "        concat_data.append(data)\n",
    "    return concat_data\n",
    "\n",
    "\n",
    "def fit_classifier(\n",
    "    clf,\n",
    "    train_data,\n",
    "    n_outs,\n",
    "    n_epochs=N_EPOCHS,\n",
    "):\n",
    "    \"\"\"\n",
    "    Обучение классификатора на тренировочных данных \n",
    "    на протяжении заданного кол-ва эпох.\n",
    "    \"\"\"\n",
    "    for epoch in tqdm(range(n_epochs)):\n",
    "        np.random.shuffle(train_data)\n",
    "        err = 0\n",
    "        for data in tqdm(train_data):\n",
    "            yi = int(data[-1])\n",
    "            Y = np.zeros(n_outs) + MIN_VAL\n",
    "            Y[yi] = MAX_VAL\n",
    "            X = data[:-1]\n",
    "            clf.fit(X, Y)\n",
    "            err += clf.error()[0]\n",
    "        print(f'MSE: {err / len(train_data)}')\n",
    "\n",
    "\n",
    "def get_tpr(clf, test_data):\n",
    "    \"\"\"\n",
    "    Измерение качества у классификатора.\n",
    "    \"\"\"\n",
    "    tp = 0\n",
    "    fn = 0\n",
    "    for data in test_data:\n",
    "        pred = clf.predict(data[:-1])\n",
    "        max_indx = np.argmax(pred)\n",
    "        if (max_indx == data[-1]):\n",
    "            tp += 1\n",
    "        else:\n",
    "            fn += 1\n",
    "    return tp / (tp + fn)\n",
    "\n",
    "\n",
    "def save_model(model, path):\n",
    "    with open(path, 'wb') as f:\n",
    "        pickle.dump(model, f, protocol=pickle.HIGHEST_PROTOCOL)\n",
    "\n",
    "\n",
    "def load_model(path):\n",
    "    with open(path, 'rb') as f:\n",
    "        return pickle.load(f)"
   ]
  },
  {
   "cell_type": "markdown",
   "metadata": {},
   "source": [
    "## Лабораторная работа №2"
   ]
  },
  {
   "cell_type": "markdown",
   "metadata": {},
   "source": [
    "Написать свою нейросеть прямого распространения и обучить её для распознования образов цифр."
   ]
  },
  {
   "cell_type": "markdown",
   "metadata": {},
   "source": [
    "### Предобработка данных"
   ]
  },
  {
   "cell_type": "code",
   "execution_count": 4,
   "metadata": {},
   "outputs": [
    {
     "name": "stdout",
     "output_type": "stream",
     "text": [
      "(240000, 28, 28)\n",
      "(240000,)\n"
     ]
    }
   ],
   "source": [
    "digits, labels = extract_training_samples('digits')\n",
    "\n",
    "print(digits.shape)\n",
    "print(labels.shape)"
   ]
  },
  {
   "cell_type": "code",
   "execution_count": 5,
   "metadata": {},
   "outputs": [],
   "source": [
    "train_data = prepare_data(\n",
    "    X=digits,\n",
    "    Y=labels,\n",
    "    end_indx=N_TRAIN_SAMPLES,\n",
    ")\n",
    "test_data = prepare_data(\n",
    "    X=digits,\n",
    "    Y=labels,\n",
    "    start_indx=N_TRAIN_SAMPLES,\n",
    "    end_indx=N_TRAIN_SAMPLES+N_TEST_SAMPLES,\n",
    ")"
   ]
  },
  {
   "cell_type": "code",
   "execution_count": 6,
   "metadata": {},
   "outputs": [
    {
     "data": {
      "text/plain": [
       "(50000, 2500)"
      ]
     },
     "execution_count": 6,
     "metadata": {},
     "output_type": "execute_result"
    }
   ],
   "source": [
    "len(train_data), len(test_data)"
   ]
  },
  {
   "cell_type": "code",
   "execution_count": 7,
   "metadata": {
    "scrolled": true
   },
   "outputs": [
    {
     "data": {
      "text/plain": [
       "array([0., 0., 0., ..., 0., 0., 8.])"
      ]
     },
     "execution_count": 7,
     "metadata": {},
     "output_type": "execute_result"
    }
   ],
   "source": [
    "train_data[0]"
   ]
  },
  {
   "cell_type": "code",
   "execution_count": 8,
   "metadata": {},
   "outputs": [
    {
     "data": {
      "text/plain": [
       "<matplotlib.image.AxesImage at 0x242cf340>"
      ]
     },
     "execution_count": 8,
     "metadata": {},
     "output_type": "execute_result"
    },
    {
     "data": {
      "image/png": "[encoded data removed]",
      "text/plain": [
       "<Figure size 432x288 with 1 Axes>"
      ]
     },
     "metadata": {
      "needs_background": "light"
     },
     "output_type": "display_data"
    }
   ],
   "source": [
    "plt.imshow(train_data[0][:-1].reshape((28,28)), cmap='gray', vmin=0, vmax=1)"
   ]
  },
  {
   "cell_type": "code",
   "execution_count": 9,
   "metadata": {},
   "outputs": [
    {
     "data": {
      "text/plain": [
       "array([0., 0., 0., ..., 0., 0., 2.])"
      ]
     },
     "execution_count": 9,
     "metadata": {},
     "output_type": "execute_result"
    }
   ],
   "source": [
    "test_data[0]"
   ]
  },
  {
   "cell_type": "code",
   "execution_count": 10,
   "metadata": {},
   "outputs": [
    {
     "data": {
      "text/plain": [
       "<matplotlib.image.AxesImage at 0x24361b38>"
      ]
     },
     "execution_count": 10,
     "metadata": {},
     "output_type": "execute_result"
    },
    {
     "data": {
      "image/png": "[encoded data removed]",
      "text/plain": [
       "<Figure size 432x288 with 1 Axes>"
      ]
     },
     "metadata": {
      "needs_background": "light"
     },
     "output_type": "display_data"
    }
   ],
   "source": [
    "plt.imshow(test_data[0][:-1].reshape((28,28)), cmap='gray', vmin=0, vmax=1)"
   ]
  },
  {
   "cell_type": "markdown",
   "metadata": {},
   "source": [
    "### Обучение"
   ]
  },
  {
   "cell_type": "code",
   "execution_count": 11,
   "metadata": {},
   "outputs": [],
   "source": [
    "OUT_NODES = 10\n",
    "\n",
    "digit_classifier = nn(\n",
    "    input_nodes=INPUT_NODES,\n",
    "    hidden_nodes=(100, 100),\n",
    "    out_nodes=OUT_NODES, \n",
    "    lr=LR,\n",
    ")"
   ]
  },
  {
   "cell_type": "code",
   "execution_count": 18,
   "metadata": {},
   "outputs": [
    {
     "data": {
      "application/vnd.jupyter.widget-view+json": {
       "model_id": "78a18d61c562485a954dbcedb0f24250",
       "version_major": 2,
       "version_minor": 0
      },
      "text/plain": [
       "HBox(children=(HTML(value=''), FloatProgress(value=0.0, max=5.0), HTML(value='')))"
      ]
     },
     "metadata": {},
     "output_type": "display_data"
    },
    {
     "data": {
      "application/vnd.jupyter.widget-view+json": {
       "model_id": "7e5e728220fb46efbc03c74acd91b4f8",
       "version_major": 2,
       "version_minor": 0
      },
      "text/plain": [
       "HBox(children=(HTML(value=''), FloatProgress(value=0.0, max=50000.0), HTML(value='')))"
      ]
     },
     "metadata": {},
     "output_type": "display_data"
    },
    {
     "name": "stdout",
     "output_type": "stream",
     "text": [
      "\n",
      "MSE: 0.05343367755789744\n"
     ]
    },
    {
     "data": {
      "application/vnd.jupyter.widget-view+json": {
       "model_id": "6aee71a5916d4ba98f6e55f36cc2c4a7",
       "version_major": 2,
       "version_minor": 0
      },
      "text/plain": [
       "HBox(children=(HTML(value=''), FloatProgress(value=0.0, max=50000.0), HTML(value='')))"
      ]
     },
     "metadata": {},
     "output_type": "display_data"
    },
    {
     "name": "stdout",
     "output_type": "stream",
     "text": [
      "\n",
      "MSE: 0.05086474348162535\n"
     ]
    },
    {
     "data": {
      "application/vnd.jupyter.widget-view+json": {
       "model_id": "de3f51dfe8fe42f8a7e3d67e838307b7",
       "version_major": 2,
       "version_minor": 0
      },
      "text/plain": [
       "HBox(children=(HTML(value=''), FloatProgress(value=0.0, max=50000.0), HTML(value='')))"
      ]
     },
     "metadata": {},
     "output_type": "display_data"
    },
    {
     "name": "stdout",
     "output_type": "stream",
     "text": [
      "\n",
      "MSE: 0.047887281904932084\n"
     ]
    },
    {
     "data": {
      "application/vnd.jupyter.widget-view+json": {
       "model_id": "552a539d502446c5af8a7146f0ffafff",
       "version_major": 2,
       "version_minor": 0
      },
      "text/plain": [
       "HBox(children=(HTML(value=''), FloatProgress(value=0.0, max=50000.0), HTML(value='')))"
      ]
     },
     "metadata": {},
     "output_type": "display_data"
    },
    {
     "name": "stdout",
     "output_type": "stream",
     "text": [
      "\n",
      "MSE: 0.05336583475300881\n"
     ]
    },
    {
     "data": {
      "application/vnd.jupyter.widget-view+json": {
       "model_id": "25e8038426ed4016a1bfb4ec66aaa75f",
       "version_major": 2,
       "version_minor": 0
      },
      "text/plain": [
       "HBox(children=(HTML(value=''), FloatProgress(value=0.0, max=50000.0), HTML(value='')))"
      ]
     },
     "metadata": {},
     "output_type": "display_data"
    },
    {
     "name": "stdout",
     "output_type": "stream",
     "text": [
      "\n",
      "MSE: 0.04978613206891945\n",
      "\n"
     ]
    }
   ],
   "source": [
    "fit_classifier(\n",
    "    clf=digit_classifier,\n",
    "    train_data=train_data,\n",
    "    n_outs=OUT_NODES,\n",
    "    n_epochs=5,\n",
    ")\n",
    "\n",
    "tpr = get_tpr(digit_classifier, test_data)"
   ]
  },
  {
   "cell_type": "code",
   "execution_count": 19,
   "metadata": {},
   "outputs": [
    {
     "name": "stdout",
     "output_type": "stream",
     "text": [
      "TPR = 0.9628\n"
     ]
    }
   ],
   "source": [
    "print(f'TPR = {tpr}')"
   ]
  },
  {
   "cell_type": "code",
   "execution_count": 20,
   "metadata": {},
   "outputs": [
    {
     "data": {
      "text/plain": [
       "array([[5.70199908e-05],\n",
       "       [2.93110598e-04],\n",
       "       [5.22864465e-03],\n",
       "       [2.37139282e-04],\n",
       "       [1.26338969e-03],\n",
       "       [9.99954375e-01],\n",
       "       [2.64556144e-04],\n",
       "       [2.37973603e-05],\n",
       "       [2.72639304e-04],\n",
       "       [1.78832257e-05]])"
      ]
     },
     "execution_count": 20,
     "metadata": {},
     "output_type": "execute_result"
    }
   ],
   "source": [
    "digit_classifier.predict(test_data[-1][:-1])"
   ]
  },
  {
   "cell_type": "code",
   "execution_count": 21,
   "metadata": {},
   "outputs": [
    {
     "data": {
      "text/plain": [
       "<matplotlib.image.AxesImage at 0x9c4fb8>"
      ]
     },
     "execution_count": 21,
     "metadata": {},
     "output_type": "execute_result"
    },
    {
     "data": {
      "image/png": "[encoded data removed]",
      "text/plain": [
       "<Figure size 432x288 with 1 Axes>"
      ]
     },
     "metadata": {
      "needs_background": "light"
     },
     "output_type": "display_data"
    }
   ],
   "source": [
    "plt.imshow(test_data[-1][:-1].reshape((28,28)), cmap='gray', vmin=0, vmax=1)"
   ]
  },
  {
   "cell_type": "markdown",
   "metadata": {},
   "source": [
    "## Лабораторная работа №3"
   ]
  },
  {
   "cell_type": "markdown",
   "metadata": {},
   "source": [
    "Написать свою нейросеть прямого распространения и обучить её для распознования образов букв."
   ]
  },
  {
   "cell_type": "markdown",
   "metadata": {},
   "source": [
    "### Предобработка данных"
   ]
  },
  {
   "cell_type": "code",
   "execution_count": 22,
   "metadata": {},
   "outputs": [
    {
     "name": "stdout",
     "output_type": "stream",
     "text": [
      "(124800, 28, 28)\n",
      "(124800,)\n"
     ]
    }
   ],
   "source": [
    "letters, labels = extract_training_samples('letters')\n",
    "\n",
    "print(letters.shape)\n",
    "print(labels.shape)"
   ]
  },
  {
   "cell_type": "code",
   "execution_count": 23,
   "metadata": {},
   "outputs": [],
   "source": [
    "train_data = prepare_data(\n",
    "    X=letters,\n",
    "    Y=labels,\n",
    "    end_indx=N_TRAIN_SAMPLES,\n",
    ")\n",
    "test_data = prepare_data(\n",
    "    X=letters,\n",
    "    Y=labels,\n",
    "    start_indx=N_TRAIN_SAMPLES,\n",
    "    end_indx=N_TRAIN_SAMPLES+N_TEST_SAMPLES,\n",
    ")"
   ]
  },
  {
   "cell_type": "code",
   "execution_count": 24,
   "metadata": {},
   "outputs": [
    {
     "data": {
      "text/plain": [
       "(50000, 2500)"
      ]
     },
     "execution_count": 24,
     "metadata": {},
     "output_type": "execute_result"
    }
   ],
   "source": [
    "len(train_data), len(test_data)"
   ]
  },
  {
   "cell_type": "code",
   "execution_count": 25,
   "metadata": {},
   "outputs": [
    {
     "data": {
      "text/plain": [
       "(1, 26)"
      ]
     },
     "execution_count": 25,
     "metadata": {},
     "output_type": "execute_result"
    }
   ],
   "source": [
    "labels.min(), labels.max()"
   ]
  },
  {
   "cell_type": "code",
   "execution_count": 26,
   "metadata": {
    "scrolled": true
   },
   "outputs": [
    {
     "data": {
      "text/plain": [
       "array([ 0.,  0.,  0., ...,  0.,  0., 23.])"
      ]
     },
     "execution_count": 26,
     "metadata": {},
     "output_type": "execute_result"
    }
   ],
   "source": [
    "train_data[0]"
   ]
  },
  {
   "cell_type": "code",
   "execution_count": 27,
   "metadata": {},
   "outputs": [
    {
     "data": {
      "text/plain": [
       "<matplotlib.image.AxesImage at 0x2427edc0>"
      ]
     },
     "execution_count": 27,
     "metadata": {},
     "output_type": "execute_result"
    },
    {
     "data": {
      "image/png": "[encoded data removed]",
      "text/plain": [
       "<Figure size 432x288 with 1 Axes>"
      ]
     },
     "metadata": {
      "needs_background": "light"
     },
     "output_type": "display_data"
    }
   ],
   "source": [
    "plt.imshow(train_data[0][:-1].reshape((28,28)), cmap='gray', vmin=0, vmax=1)"
   ]
  },
  {
   "cell_type": "code",
   "execution_count": 28,
   "metadata": {},
   "outputs": [
    {
     "data": {
      "text/plain": [
       "23.0"
      ]
     },
     "execution_count": 28,
     "metadata": {},
     "output_type": "execute_result"
    }
   ],
   "source": [
    "train_data[0][-1]"
   ]
  },
  {
   "cell_type": "code",
   "execution_count": 29,
   "metadata": {},
   "outputs": [
    {
     "data": {
      "text/plain": [
       "'W'"
      ]
     },
     "execution_count": 29,
     "metadata": {},
     "output_type": "execute_result"
    }
   ],
   "source": [
    "chr(int(train_data[0][-1]) + 64)"
   ]
  },
  {
   "cell_type": "markdown",
   "metadata": {},
   "source": [
    "### Обучение"
   ]
  },
  {
   "cell_type": "code",
   "execution_count": 43,
   "metadata": {},
   "outputs": [],
   "source": [
    "HIDDEN_NODES = (260, 130)\n",
    "OUT_NODES = 27\n",
    "\n",
    "letter_classifier = nn(\n",
    "    input_nodes=INPUT_NODES,\n",
    "    hidden_nodes=HIDDEN_NODES,\n",
    "    out_nodes=OUT_NODES,\n",
    "    lr=0.05,\n",
    ")"
   ]
  },
  {
   "cell_type": "code",
   "execution_count": 44,
   "metadata": {
    "scrolled": false
   },
   "outputs": [
    {
     "data": {
      "application/vnd.jupyter.widget-view+json": {
       "model_id": "19cda2d73c704a388cfaff12c394f2dd",
       "version_major": 2,
       "version_minor": 0
      },
      "text/plain": [
       "HBox(children=(HTML(value=''), FloatProgress(value=0.0, max=5.0), HTML(value='')))"
      ]
     },
     "metadata": {},
     "output_type": "display_data"
    },
    {
     "data": {
      "application/vnd.jupyter.widget-view+json": {
       "model_id": "ca8dfbdc331f48419d7d37f11ec4f983",
       "version_major": 2,
       "version_minor": 0
      },
      "text/plain": [
       "HBox(children=(HTML(value=''), FloatProgress(value=0.0, max=50000.0), HTML(value='')))"
      ]
     },
     "metadata": {},
     "output_type": "display_data"
    },
    {
     "name": "stdout",
     "output_type": "stream",
     "text": [
      "\n",
      "MSE: 0.48370847793916005\n"
     ]
    },
    {
     "data": {
      "application/vnd.jupyter.widget-view+json": {
       "model_id": "7e6a8f927bfd4689af92ca20af26858c",
       "version_major": 2,
       "version_minor": 0
      },
      "text/plain": [
       "HBox(children=(HTML(value=''), FloatProgress(value=0.0, max=50000.0), HTML(value='')))"
      ]
     },
     "metadata": {},
     "output_type": "display_data"
    },
    {
     "name": "stdout",
     "output_type": "stream",
     "text": [
      "\n",
      "MSE: 0.337604553736345\n"
     ]
    },
    {
     "data": {
      "application/vnd.jupyter.widget-view+json": {
       "model_id": "19de53512c464dc4b6fdba2903974349",
       "version_major": 2,
       "version_minor": 0
      },
      "text/plain": [
       "HBox(children=(HTML(value=''), FloatProgress(value=0.0, max=50000.0), HTML(value='')))"
      ]
     },
     "metadata": {},
     "output_type": "display_data"
    },
    {
     "name": "stdout",
     "output_type": "stream",
     "text": [
      "\n",
      "MSE: 0.31138215127095453\n"
     ]
    },
    {
     "data": {
      "application/vnd.jupyter.widget-view+json": {
       "model_id": "11ecd52a0a3d451085ae7758f8615078",
       "version_major": 2,
       "version_minor": 0
      },
      "text/plain": [
       "HBox(children=(HTML(value=''), FloatProgress(value=0.0, max=50000.0), HTML(value='')))"
      ]
     },
     "metadata": {},
     "output_type": "display_data"
    },
    {
     "name": "stdout",
     "output_type": "stream",
     "text": [
      "\n",
      "MSE: 0.29759489651167403\n"
     ]
    },
    {
     "data": {
      "application/vnd.jupyter.widget-view+json": {
       "model_id": "e6dd09327dab4d0fa44e39aa131d57e9",
       "version_major": 2,
       "version_minor": 0
      },
      "text/plain": [
       "HBox(children=(HTML(value=''), FloatProgress(value=0.0, max=50000.0), HTML(value='')))"
      ]
     },
     "metadata": {},
     "output_type": "display_data"
    },
    {
     "name": "stdout",
     "output_type": "stream",
     "text": [
      "\n",
      "MSE: 0.29607698083907075\n",
      "\n"
     ]
    }
   ],
   "source": [
    "fit_classifier(\n",
    "    clf=letter_classifier,\n",
    "    train_data=train_data,\n",
    "    n_outs=OUT_NODES,\n",
    "    n_epochs=5,\n",
    ")"
   ]
  },
  {
   "cell_type": "code",
   "execution_count": 45,
   "metadata": {},
   "outputs": [
    {
     "name": "stdout",
     "output_type": "stream",
     "text": [
      "TPR = 0.8028\n"
     ]
    }
   ],
   "source": [
    "print(f'TPR = {get_tpr(letter_classifier, test_data)}')"
   ]
  },
  {
   "cell_type": "code",
   "execution_count": 46,
   "metadata": {},
   "outputs": [
    {
     "data": {
      "text/plain": [
       "array([[6.33748627e-04],\n",
       "       [4.75328647e-03],\n",
       "       [3.87131637e-02],\n",
       "       [3.01850384e-02],\n",
       "       [2.24507187e-05],\n",
       "       [8.48739187e-01],\n",
       "       [1.10137052e-03],\n",
       "       [1.15007815e-02],\n",
       "       [1.18788925e-04],\n",
       "       [1.12448584e-03],\n",
       "       [5.81668597e-06],\n",
       "       [2.14953069e-03],\n",
       "       [2.93515617e-04],\n",
       "       [1.96815131e-03],\n",
       "       [1.51605870e-05],\n",
       "       [5.58729537e-04],\n",
       "       [1.51914611e-04],\n",
       "       [2.77701865e-03],\n",
       "       [3.09067092e-03],\n",
       "       [6.83068545e-03],\n",
       "       [1.49410430e-03],\n",
       "       [3.79383400e-03],\n",
       "       [1.58533078e-03],\n",
       "       [1.56453486e-03],\n",
       "       [5.91196133e-04],\n",
       "       [1.56012167e-04],\n",
       "       [9.31759098e-03]])"
      ]
     },
     "execution_count": 46,
     "metadata": {},
     "output_type": "execute_result"
    }
   ],
   "source": [
    "letter_classifier.predict(test_data[0][:-1])"
   ]
  },
  {
   "cell_type": "code",
   "execution_count": 47,
   "metadata": {},
   "outputs": [
    {
     "data": {
      "text/plain": [
       "<matplotlib.image.AxesImage at 0xfe3790>"
      ]
     },
     "execution_count": 47,
     "metadata": {},
     "output_type": "execute_result"
    },
    {
     "data": {
      "image/png": "[encoded data removed]",
      "text/plain": [
       "<Figure size 432x288 with 1 Axes>"
      ]
     },
     "metadata": {
      "needs_background": "light"
     },
     "output_type": "display_data"
    }
   ],
   "source": [
    "plt.imshow(test_data[0][:-1].reshape((28,28)), cmap='gray', vmin=0, vmax=1)"
   ]
  },
  {
   "cell_type": "code",
   "execution_count": 48,
   "metadata": {},
   "outputs": [
    {
     "data": {
      "text/plain": [
       "'E'"
      ]
     },
     "execution_count": 48,
     "metadata": {},
     "output_type": "execute_result"
    }
   ],
   "source": [
    "chr(int(test_data[0][-1]) + 64)"
   ]
  },
  {
   "cell_type": "code",
   "execution_count": 54,
   "metadata": {},
   "outputs": [],
   "source": [
    "save_model(letter_classifier, 'l_clf.model')\n",
    "save_model(digit_classifier, 'd_clf.model')"
   ]
  },
  {
   "cell_type": "code",
   "execution_count": null,
   "metadata": {},
   "outputs": [],
   "source": []
  }
 ],
 "metadata": {
  "kernelspec": {
   "display_name": "Python 3",
   "language": "python",
   "name": "python3"
  },
  "language_info": {
   "codemirror_mode": {
    "name": "ipython",
    "version": 3
   },
   "file_extension": ".py",
   "mimetype": "text/x-python",
   "name": "python",
   "nbconvert_exporter": "python",
   "pygments_lexer": "ipython3",
   "version": "3.8.5"
  }
 },
 "nbformat": 4,
 "nbformat_minor": 4
}
